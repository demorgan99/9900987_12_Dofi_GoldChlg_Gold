{
 "cells": [
  {
   "cell_type": "code",
   "execution_count": 2,
   "id": "f9a865ec-4eaf-451b-b9d2-10b602378604",
   "metadata": {},
   "outputs": [],
   "source": [
    "import re\n",
    "import pandas as pd"
   ]
  },
  {
   "cell_type": "code",
   "execution_count": 3,
   "id": "05d2f015-72f5-49b2-be50-5fc89c0eda7b",
   "metadata": {},
   "outputs": [
    {
     "name": "stdin",
     "output_type": "stream",
     "text": [
      "Silahkan masukkan kata: # Buat Word Cloud wordcloud = WordCloud().generate(filtered_text)  # Tampilkan Word Cloud plt.imshow(wordcloud) plt.axis(\"off\") plt.show()\n"
     ]
    },
    {
     "name": "stdout",
     "output_type": "stream",
     "text": [
      "# buat word cloud wordcloud = wordcloud().generate(filtered_text) # tampilkan word cloud plt.imshow(wordcloud) plt.axis(\"off\") plt.show()\n"
     ]
    }
   ],
   "source": [
    "# Load kamus alay\n",
    "kamus_alay = pd.read_csv(\"new_kamusalay.csv\", encoding='latin-1', header=None)\n",
    "kamus_alay_dict = dict(zip(kamus_alay[0], kamus_alay[1]))\n",
    "\n",
    "# Load daftar kata kasar\n",
    "abusive = pd.read_csv(\"abusive.csv\", encoding='latin-1')\n",
    "abusive_list = set(abusive['ABUSIVE'])\n",
    "\n",
    "# Meminta input dari pengguna\n",
    "my_input = input(\"Silahkan masukkan kata:\")\n",
    "my_input_list = my_input.lower().split()\n",
    "\n",
    "# Mengganti kata-kata alay\n",
    "alay_replaced = [kamus_alay_dict.get(word, word) for word in my_input_list]\n",
    "\n",
    "# Menyensor kata-kata kasar\n",
    "censored_result = ['*' * len(word) if word in abusive_list else word for word in alay_replaced]\n",
    "\n",
    "# Menampilkan hasil akhir\n",
    "final_result = ' '.join(censored_result)\n",
    "print(final_result)"
   ]
  },
  {
   "cell_type": "code",
   "execution_count": null,
   "id": "79ef1839-01fb-4e80-9820-6c6995c004d6",
   "metadata": {},
   "outputs": [],
   "source": []
  }
 ],
 "metadata": {
  "kernelspec": {
   "display_name": "Python 3 (ipykernel)",
   "language": "python",
   "name": "python3"
  },
  "language_info": {
   "codemirror_mode": {
    "name": "ipython",
    "version": 3
   },
   "file_extension": ".py",
   "mimetype": "text/x-python",
   "name": "python",
   "nbconvert_exporter": "python",
   "pygments_lexer": "ipython3",
   "version": "3.11.4"
  }
 },
 "nbformat": 4,
 "nbformat_minor": 5
}
